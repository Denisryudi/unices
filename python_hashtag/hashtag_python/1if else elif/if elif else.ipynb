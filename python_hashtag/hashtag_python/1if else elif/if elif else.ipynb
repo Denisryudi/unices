{
 "cells": [
  {
   "cell_type": "code",
   "execution_count": 10,
   "id": "9e5cd57d",
   "metadata": {},
   "outputs": [
    {
     "name": "stdout",
     "output_type": "stream",
     "text": [
      "Bateu a meta, então ganhou $1200.0\n"
     ]
    }
   ],
   "source": [
    "meta = 20000\n",
    "vendas = 40000\n",
    "\n",
    "if (vendas > (meta*2)):\n",
    "    bonus = 0.07 * vendas\n",
    "    print(f'Como dobrou a meta, ganhou ${bonus}')\n",
    "elif (vendas > meta):\n",
    "    bonus = (0.03 * vendas)\n",
    "    print(f'Bateu a meta, então ganhou ${bonus}')\n",
    "else:\n",
    "    print('Não bateu a meta')"
   ]
  },
  {
   "cell_type": "code",
   "execution_count": 16,
   "id": "b116fed8",
   "metadata": {},
   "outputs": [
    {
     "name": "stdout",
     "output_type": "stream",
     "text": [
      "Programa 3\n",
      "Insira seu e-mail:denis@hoy.com\n",
      "Email válido\n"
     ]
    }
   ],
   "source": [
    "print('Programa 3')\n",
    "email_usuario = input('Insira seu e-mail:')\n",
    "if '@' not in email_usuario or '.' not in email_usuario:\n",
    "    print('Email inválido')\n",
    "else:\n",
    "    print('Email válido')"
   ]
  },
  {
   "cell_type": "code",
   "execution_count": null,
   "id": "e4cdcfb3",
   "metadata": {},
   "outputs": [],
   "source": [
    "print('Programa 3')\n",
    "email_usuario = input('Insira seu e-mail:')\n",
    "if '@' not in email_usuario or '.' not in email_usuario:\n",
    "    print('Email inválido')\n",
    "else:\n",
    "    pass"
   ]
  },
  {
   "cell_type": "code",
   "execution_count": 3,
   "id": "a2981569",
   "metadata": {},
   "outputs": [
    {
     "name": "stdout",
     "output_type": "stream",
     "text": [
      "Digite uma nota de 0 a 10: 9\n",
      "Devido à avaliação positiva todos ganharam 450.0\n"
     ]
    }
   ],
   "source": [
    "vendas = 15000\n",
    "direction_rate = int(input('Digite uma nota de 0 a 10: '))\n",
    "if (direction_rate <= 10 and direction_rate >=9):\n",
    "    bonus = 0.03 * vendas\n",
    "    print(f'Devido à avaliação positiva todos ganharam {bonus}')\n",
    "else:\n",
    "    print('Não bateram a meta de avaliação.')\n",
    "              \n"
   ]
  },
  {
   "cell_type": "code",
   "execution_count": null,
   "id": "f0d66801",
   "metadata": {},
   "outputs": [],
   "source": []
  }
 ],
 "metadata": {
  "kernelspec": {
   "display_name": "Python 3 (ipykernel)",
   "language": "python",
   "name": "python3"
  },
  "language_info": {
   "codemirror_mode": {
    "name": "ipython",
    "version": 3
   },
   "file_extension": ".py",
   "mimetype": "text/x-python",
   "name": "python",
   "nbconvert_exporter": "python",
   "pygments_lexer": "ipython3",
   "version": "3.10.9"
  }
 },
 "nbformat": 4,
 "nbformat_minor": 5
}
