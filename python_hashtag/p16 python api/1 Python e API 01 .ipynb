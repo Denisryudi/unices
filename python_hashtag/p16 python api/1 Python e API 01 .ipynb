{
 "cells": [
  {
   "cell_type": "markdown",
   "metadata": {},
   "source": [
    "# Python e API\n",
    "\n",
    "### O que é uma API?\n",
    "\n",
    "- É um conjunto de códigos para usar um serviço/site/aplicativo específico. Cada site/ferramenta tem sua própria API. É importante que você saiba ler as APIs que precisar para saber usar\n",
    "\n",
    "- Um dos padrões mais comuns em API é pegar informações em formato json, uma espécie de dicionário que precisa ser tratada no Python para podermos analisar\n",
    "\n",
    "- As possibilidades de API são infinitas, vamos fazer 2 exemplos aqui: Cotação de Moedas e Envio de SMS.\n",
    "\n",
    "- Sites como Google, Youtube, Facebook, Twitter, ArcGis e praticamente qualquer ferramenta/site grande tem uma API.\n",
    "\n",
    "### O que precisamos:\n",
    "\n",
    "- Quase sempre você precisa de uma conta para consumir uma API. Algumas APIs são abertas, como a https://docs.awesomeapi.com.br/api-de-moedas , mas em muitos casos (como veremos no caso do SMS) vamos precisar ter uma conta ativa para consumir a API\n",
    "\n",
    "- A Documentação da API (ou exemplos da internet) é a chave para conseguir usar uma API "
   ]
  },
  {
   "cell_type": "markdown",
   "metadata": {},
   "source": [
    "#### Pegar a Cotação Atual de Todas as Moedas "
   ]
  },
  {
   "cell_type": "code",
   "execution_count": 6,
   "metadata": {
    "ExecuteTime": {
     "end_time": "2024-02-27T21:51:12.459893Z",
     "start_time": "2024-02-27T21:51:11.849083900Z"
    }
   },
   "outputs": [
    {
     "name": "stdout",
     "output_type": "stream",
     "text": [
      "{'USD': {'code': 'USD', 'codein': 'BRL', 'name': 'Dólar Americano/Real Brasileiro', 'high': '4.9839', 'low': '4.9285', 'varBid': '-0.0461', 'pctChange': '-0.92', 'bid': '4.9335', 'ask': '4.9342', 'timestamp': '1709070620', 'create_date': '2024-02-27 18:50:20'}, 'USDT': {'code': 'USD', 'codein': 'BRLT', 'name': 'Dólar Americano/Real Brasileiro Turismo', 'high': '5.005', 'low': '4.955', 'varBid': '-0.045', 'pctChange': '-0.9', 'bid': '4.81', 'ask': '5.11', 'timestamp': '1709060220', 'create_date': '2024-02-27 15:57:00'}, 'CAD': {'code': 'CAD', 'codein': 'BRL', 'name': 'Dólar Canadense/Real Brasileiro', 'high': '3.698', 'low': '3.6455', 'varBid': '-0.0398', 'pctChange': '-1.08', 'bid': '3.6438', 'ask': '3.6492', 'timestamp': '1709070615', 'create_date': '2024-02-27 18:50:15'}, 'GBP': {'code': 'GBP', 'codein': 'BRL', 'name': 'Libra Esterlina/Real Brasileiro', 'high': '6.3219', 'low': '6.2539', 'varBid': '-0.0601', 'pctChange': '-0.95', 'bid': '6.25', 'ask': '6.2657', 'timestamp': '1709070617', 'create_date': '2024-02-27 18:50:17'}, 'ARS': {'code': 'ARS', 'codein': 'BRL', 'name': 'Peso Argentino/Real Brasileiro', 'high': '0.0059', 'low': '0.0059', 'varBid': '-0.0001', 'pctChange': '-1.69', 'bid': '0.0059', 'ask': '0.0059', 'timestamp': '1709070608', 'create_date': '2024-02-27 18:50:08'}, 'BTC': {'code': 'BTC', 'codein': 'BRL', 'name': 'Bitcoin/Real Brasileiro', 'high': '287342', 'low': '271458', 'varBid': '8596', 'pctChange': '3.14', 'bid': '282173', 'ask': '282173', 'timestamp': '1709070623', 'create_date': '2024-02-27 18:50:23'}, 'LTC': {'code': 'LTC', 'codein': 'BRL', 'name': 'Litecoin/Real Brasileiro', 'high': '380.8', 'low': '348', 'varBid': '11.79', 'pctChange': '3.32', 'bid': '367', 'ask': '369.75', 'timestamp': '1709070622', 'create_date': '2024-02-27 18:50:22'}, 'EUR': {'code': 'EUR', 'codein': 'BRL', 'name': 'Euro/Real Brasileiro', 'high': '5.4198', 'low': '5.3493', 'varBid': '-0.0529', 'pctChange': '-0.98', 'bid': '5.346', 'ask': '5.354', 'timestamp': '1709070612', 'create_date': '2024-02-27 18:50:12'}, 'JPY': {'code': 'JPY', 'codein': 'BRL', 'name': 'Iene Japonês/Real Brasileiro', 'high': '0.03319', 'low': '0.03277', 'varBid': '-0.0003', 'pctChange': '-0.91', 'bid': '0.03278', 'ask': '0.0328', 'timestamp': '1709070429', 'create_date': '2024-02-27 18:47:09'}, 'CHF': {'code': 'CHF', 'codein': 'BRL', 'name': 'Franco Suíço/Real Brasileiro', 'high': '5.6748', 'low': '5.604', 'varBid': '-0.0475', 'pctChange': '-0.84', 'bid': '5.6037', 'ask': '5.6121', 'timestamp': '1709070430', 'create_date': '2024-02-27 18:47:10'}, 'AUD': {'code': 'AUD', 'codein': 'BRL', 'name': 'Dólar Australiano/Real Brasileiro', 'high': '3.2659', 'low': '3.2276', 'varBid': '-0.0284', 'pctChange': '-0.87', 'bid': '3.2252', 'ask': '3.23', 'timestamp': '1709070609', 'create_date': '2024-02-27 18:50:09'}, 'CNY': {'code': 'CNY', 'codein': 'BRL', 'name': 'Yuan Chinês/Real Brasileiro', 'high': '0.6921', 'low': '0.6848', 'varBid': '-0.0062', 'pctChange': '-0.9', 'bid': '0.6856', 'ask': '0.6858', 'timestamp': '1709069162', 'create_date': '2024-02-27 18:26:02'}, 'ILS': {'code': 'ILS', 'codein': 'BRL', 'name': 'Novo Shekel Israelense/Real Brasileiro', 'high': '1.3767', 'low': '1.3648', 'varBid': '-0.0011', 'pctChange': '-0.08', 'bid': '1.3674', 'ask': '1.3676', 'timestamp': '1709070545', 'create_date': '2024-02-27 18:49:05'}, 'ETH': {'code': 'ETH', 'codein': 'BRL', 'name': 'Ethereum/Real Brasileiro', 'high': '16464.22', 'low': '15811.96', 'varBid': '276.37', 'pctChange': '1.73', 'bid': '16127.72', 'ask': '16176.24', 'timestamp': '1709070623', 'create_date': '2024-02-27 18:50:23'}, 'XRP': {'code': 'XRP', 'codein': 'BRL', 'name': 'XRP/Real Brasileiro', 'high': '2.95', 'low': '2.74', 'varBid': '0.14', 'pctChange': '4.92', 'bid': '2.89', 'ask': '2.9', 'timestamp': '1709070625', 'create_date': '2024-02-27 18:50:25'}, 'DOGE': {'code': 'DOGE', 'codein': 'BRL', 'name': 'Dogecoin/Real Brasileiro', 'high': '0.49161', 'low': '0.44039', 'varBid': '0.03826', 'pctChange': '8.67', 'bid': '0.47968', 'ask': '0.47968', 'timestamp': '1709069868', 'create_date': '2024-02-27 18:37:48'}}\n"
     ]
    }
   ],
   "source": [
    "import requests\n",
    "import json\n",
    "cotacoes = requests.get('https://economia.awesomeapi.com.br/json/all')\n",
    "cotacoes_dic = cotacoes.json()\n",
    "print(cotacoes_dic)"
   ]
  },
  {
   "cell_type": "markdown",
   "metadata": {},
   "source": [
    "#### Qual foi a última cotação do Dólar, do Euro e do BitCoin? (Sua resposta vai dar diferente do gabarito, porque estamos rodando o código em momentos diferentes, mas o seu código deve ser o mesmo/parecido)"
   ]
  },
  {
   "cell_type": "code",
   "execution_count": 10,
   "metadata": {
    "ExecuteTime": {
     "end_time": "2024-02-27T21:59:47.952084200Z",
     "start_time": "2024-02-27T21:59:47.944461400Z"
    }
   },
   "outputs": [
    {
     "name": "stdout",
     "output_type": "stream",
     "text": [
      "Dólar: 4.9335 USD\n",
      "Euro: 5.346 EUR\n",
      "Bitcoin: 282173 BTC\n"
     ]
    }
   ],
   "source": [
    "print('Dólar: {} USD'.format(cotacoes_dic['USD']['bid']))\n",
    "print('Euro: {} EUR'.format(cotacoes_dic['EUR']['bid']))\n",
    "print('Bitcoin: {} BTC'.format(cotacoes_dic['BTC']['bid']))"
   ]
  },
  {
   "cell_type": "markdown",
   "metadata": {},
   "source": [
    "#### Pegar a cotação dos últimos 30 dias do dólar (Sua resposta vai dar diferente do gabarito, porque estamos rodando o código em momentos diferentes, mas o seu código deve ser o mesmo/parecido)"
   ]
  },
  {
   "cell_type": "code",
   "execution_count": 37,
   "metadata": {
    "ExecuteTime": {
     "end_time": "2024-02-27T22:22:39.127343900Z",
     "start_time": "2024-02-27T22:22:38.409509200Z"
    }
   },
   "outputs": [
    {
     "name": "stdout",
     "output_type": "stream",
     "text": [
      "Data: 2024-01-24 18:30:01, Valor do Bid: 4.9335\n",
      "Data: 2024-01-25 18:30:01, Valor do Bid: 4.9165\n",
      "Data: 2024-01-26 18:29:38, Valor do Bid: 4.917\n",
      "Data: 2024-01-26 18:30:01, Valor do Bid: 4.9168\n",
      "Data: 2024-01-29 18:30:02, Valor do Bid: 4.9518\n",
      "Data: 2024-01-30 19:30:04, Valor do Bid: 4.9496\n",
      "Data: 2024-01-31 18:30:00, Valor do Bid: 4.9526\n",
      "Data: 2024-02-01 19:12:03, Valor do Bid: 4.9163\n",
      "Data: 2024-02-02 18:29:40, Valor do Bid: 4.9713\n",
      "Data: 2024-02-05 18:30:02, Valor do Bid: 4.9854\n",
      "Data: 2024-02-06 18:30:01, Valor do Bid: 4.9634\n",
      "Data: 2024-02-07 19:30:04, Valor do Bid: 4.9712\n",
      "Data: 2024-02-08 18:30:01, Valor do Bid: 4.992\n",
      "Data: 2024-02-09 18:29:55, Valor do Bid: 4.9512\n",
      "Data: 2024-02-09 18:30:01, Valor do Bid: 4.9517\n",
      "Data: 2024-02-11 20:59:20, Valor do Bid: 4.9536\n",
      "Data: 2024-02-12 20:59:20, Valor do Bid: 4.9536\n",
      "Data: 2024-02-13 20:58:40, Valor do Bid: 4.9536\n",
      "Data: 2024-02-14 19:30:03, Valor do Bid: 4.9735\n",
      "Data: 2024-02-15 19:14:05, Valor do Bid: 4.9732\n",
      "Data: 2024-02-16 18:29:22, Valor do Bid: 4.9668\n",
      "Data: 2024-02-16 18:30:03, Valor do Bid: 4.9665\n",
      "Data: 2024-02-19 18:30:12, Valor do Bid: 4.9564\n",
      "Data: 2024-02-20 20:58:20, Valor do Bid: 4.9275\n",
      "Data: 2024-02-21 18:28:57, Valor do Bid: 4.9326\n",
      "Data: 2024-02-22 19:30:05, Valor do Bid: 4.9639\n",
      "Data: 2024-02-23 18:55:35, Valor do Bid: 4.9938\n",
      "Data: 2024-02-25 20:59:20, Valor do Bid: 4.9938\n",
      "Data: 2024-02-26 20:59:01, Valor do Bid: 4.9799\n",
      "Data: 2024-02-27 19:17:40, Valor do Bid: 4.9335\n"
     ]
    }
   ],
   "source": [
    "import requests\n",
    "import json\n",
    "from datetime import datetime\n",
    "\n",
    "cotacoes_dolar_30d = requests.get('https://economia.awesomeapi.com.br/json/daily/USD-BRL/30')\n",
    "cotacoes_dolar_30d_dic = cotacoes_dolar_30d.json()\n",
    "\n",
    "\n",
    "\n",
    "# Função para converter o timestamp em formato de data legível\n",
    "def timestamp_para_data(timestamp):\n",
    "    return datetime.fromtimestamp(int(timestamp)).strftime('%Y-%m-%d %H:%M:%S')\n",
    "\n",
    "# List comprehension para extrair a data e o valor do 'bid' e formatá-los\n",
    "lista_cotacoes_dolar = [(timestamp_para_data(item['timestamp']), float(item['bid'])) for item in cotacoes_dolar_30d_dic]\n",
    "\n",
    "# Imprimindo a lista formatada do último item para o primeiro\n",
    "for data, valor in reversed(lista_cotacoes_dolar):\n",
    "    print(f'Data: {data}, Valor do Bid: {valor}')\n"
   ]
  },
  {
   "cell_type": "markdown",
   "metadata": {},
   "source": [
    "#### Pegar as cotações do BitCoin de Jan/20 a Out/20"
   ]
  },
  {
   "cell_type": "code",
   "execution_count": null,
   "metadata": {},
   "outputs": [],
   "source": []
  },
  {
   "cell_type": "markdown",
   "metadata": {},
   "source": [
    "#### Gráfico com as cotações do BitCoin"
   ]
  },
  {
   "cell_type": "code",
   "execution_count": null,
   "metadata": {},
   "outputs": [],
   "source": []
  }
 ],
 "metadata": {
  "kernelspec": {
   "display_name": "Python 3",
   "language": "python",
   "name": "python3"
  },
  "language_info": {
   "codemirror_mode": {
    "name": "ipython",
    "version": 3
   },
   "file_extension": ".py",
   "mimetype": "text/x-python",
   "name": "python",
   "nbconvert_exporter": "python",
   "pygments_lexer": "ipython3",
   "version": "3.8.3"
  }
 },
 "nbformat": 4,
 "nbformat_minor": 4
}
