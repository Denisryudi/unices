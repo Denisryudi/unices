{
 "cells": [
  {
   "cell_type": "markdown",
   "metadata": {},
   "source": [
    "# Python e API\n",
    "\n",
    "### O que é uma API?\n",
    "\n",
    "- É um conjunto de códigos para usar um serviço/site/aplicativo específico. Cada site/ferramenta tem sua própria API. É importante que você saiba ler as APIs que precisar para saber usar\n",
    "\n",
    "- Um dos padrões mais comuns em API é pegar informações em formato json, uma espécie de dicionário que precisa ser tratada no Python para podermos analisar\n",
    "\n",
    "- As possibilidades de API são infinitas, vamos fazer 2 exemplos aqui: Cotação de Moedas e Envio de SMS.\n",
    "\n",
    "- Sites como Google, Youtube, Facebook, Twitter, ArcGis e praticamente qualquer ferramenta/site grande tem uma API.\n",
    "\n",
    "### O que precisamos:\n",
    "\n",
    "- Quase sempre você precisa de uma conta para consumir uma API. Algumas APIs são abertas, como a https://docs.awesomeapi.com.br/api-de-moedas , mas em muitos casos (como veremos no caso do SMS) vamos precisar ter uma conta ativa para consumir a API\n",
    "\n",
    "- A Documentação da API (ou exemplos da internet) é a chave para conseguir usar uma API "
   ]
  },
  {
   "cell_type": "markdown",
   "metadata": {},
   "source": [
    "#### Pegar a Cotação Atual de Todas as Moedas "
   ]
  },
  {
   "cell_type": "code",
   "execution_count": 6,
   "metadata": {
    "ExecuteTime": {
     "end_time": "2024-02-27T21:51:12.459893Z",
     "start_time": "2024-02-27T21:51:11.849083900Z"
    }
   },
   "outputs": [
    {
     "name": "stdout",
     "output_type": "stream",
     "text": [
      "{'USD': {'code': 'USD', 'codein': 'BRL', 'name': 'Dólar Americano/Real Brasileiro', 'high': '4.9839', 'low': '4.9285', 'varBid': '-0.0461', 'pctChange': '-0.92', 'bid': '4.9335', 'ask': '4.9342', 'timestamp': '1709070620', 'create_date': '2024-02-27 18:50:20'}, 'USDT': {'code': 'USD', 'codein': 'BRLT', 'name': 'Dólar Americano/Real Brasileiro Turismo', 'high': '5.005', 'low': '4.955', 'varBid': '-0.045', 'pctChange': '-0.9', 'bid': '4.81', 'ask': '5.11', 'timestamp': '1709060220', 'create_date': '2024-02-27 15:57:00'}, 'CAD': {'code': 'CAD', 'codein': 'BRL', 'name': 'Dólar Canadense/Real Brasileiro', 'high': '3.698', 'low': '3.6455', 'varBid': '-0.0398', 'pctChange': '-1.08', 'bid': '3.6438', 'ask': '3.6492', 'timestamp': '1709070615', 'create_date': '2024-02-27 18:50:15'}, 'GBP': {'code': 'GBP', 'codein': 'BRL', 'name': 'Libra Esterlina/Real Brasileiro', 'high': '6.3219', 'low': '6.2539', 'varBid': '-0.0601', 'pctChange': '-0.95', 'bid': '6.25', 'ask': '6.2657', 'timestamp': '1709070617', 'create_date': '2024-02-27 18:50:17'}, 'ARS': {'code': 'ARS', 'codein': 'BRL', 'name': 'Peso Argentino/Real Brasileiro', 'high': '0.0059', 'low': '0.0059', 'varBid': '-0.0001', 'pctChange': '-1.69', 'bid': '0.0059', 'ask': '0.0059', 'timestamp': '1709070608', 'create_date': '2024-02-27 18:50:08'}, 'BTC': {'code': 'BTC', 'codein': 'BRL', 'name': 'Bitcoin/Real Brasileiro', 'high': '287342', 'low': '271458', 'varBid': '8596', 'pctChange': '3.14', 'bid': '282173', 'ask': '282173', 'timestamp': '1709070623', 'create_date': '2024-02-27 18:50:23'}, 'LTC': {'code': 'LTC', 'codein': 'BRL', 'name': 'Litecoin/Real Brasileiro', 'high': '380.8', 'low': '348', 'varBid': '11.79', 'pctChange': '3.32', 'bid': '367', 'ask': '369.75', 'timestamp': '1709070622', 'create_date': '2024-02-27 18:50:22'}, 'EUR': {'code': 'EUR', 'codein': 'BRL', 'name': 'Euro/Real Brasileiro', 'high': '5.4198', 'low': '5.3493', 'varBid': '-0.0529', 'pctChange': '-0.98', 'bid': '5.346', 'ask': '5.354', 'timestamp': '1709070612', 'create_date': '2024-02-27 18:50:12'}, 'JPY': {'code': 'JPY', 'codein': 'BRL', 'name': 'Iene Japonês/Real Brasileiro', 'high': '0.03319', 'low': '0.03277', 'varBid': '-0.0003', 'pctChange': '-0.91', 'bid': '0.03278', 'ask': '0.0328', 'timestamp': '1709070429', 'create_date': '2024-02-27 18:47:09'}, 'CHF': {'code': 'CHF', 'codein': 'BRL', 'name': 'Franco Suíço/Real Brasileiro', 'high': '5.6748', 'low': '5.604', 'varBid': '-0.0475', 'pctChange': '-0.84', 'bid': '5.6037', 'ask': '5.6121', 'timestamp': '1709070430', 'create_date': '2024-02-27 18:47:10'}, 'AUD': {'code': 'AUD', 'codein': 'BRL', 'name': 'Dólar Australiano/Real Brasileiro', 'high': '3.2659', 'low': '3.2276', 'varBid': '-0.0284', 'pctChange': '-0.87', 'bid': '3.2252', 'ask': '3.23', 'timestamp': '1709070609', 'create_date': '2024-02-27 18:50:09'}, 'CNY': {'code': 'CNY', 'codein': 'BRL', 'name': 'Yuan Chinês/Real Brasileiro', 'high': '0.6921', 'low': '0.6848', 'varBid': '-0.0062', 'pctChange': '-0.9', 'bid': '0.6856', 'ask': '0.6858', 'timestamp': '1709069162', 'create_date': '2024-02-27 18:26:02'}, 'ILS': {'code': 'ILS', 'codein': 'BRL', 'name': 'Novo Shekel Israelense/Real Brasileiro', 'high': '1.3767', 'low': '1.3648', 'varBid': '-0.0011', 'pctChange': '-0.08', 'bid': '1.3674', 'ask': '1.3676', 'timestamp': '1709070545', 'create_date': '2024-02-27 18:49:05'}, 'ETH': {'code': 'ETH', 'codein': 'BRL', 'name': 'Ethereum/Real Brasileiro', 'high': '16464.22', 'low': '15811.96', 'varBid': '276.37', 'pctChange': '1.73', 'bid': '16127.72', 'ask': '16176.24', 'timestamp': '1709070623', 'create_date': '2024-02-27 18:50:23'}, 'XRP': {'code': 'XRP', 'codein': 'BRL', 'name': 'XRP/Real Brasileiro', 'high': '2.95', 'low': '2.74', 'varBid': '0.14', 'pctChange': '4.92', 'bid': '2.89', 'ask': '2.9', 'timestamp': '1709070625', 'create_date': '2024-02-27 18:50:25'}, 'DOGE': {'code': 'DOGE', 'codein': 'BRL', 'name': 'Dogecoin/Real Brasileiro', 'high': '0.49161', 'low': '0.44039', 'varBid': '0.03826', 'pctChange': '8.67', 'bid': '0.47968', 'ask': '0.47968', 'timestamp': '1709069868', 'create_date': '2024-02-27 18:37:48'}}\n"
     ]
    }
   ],
   "source": [
    "import requests\n",
    "import json\n",
    "cotacoes = requests.get('https://economia.awesomeapi.com.br/json/all')\n",
    "cotacoes_dic = cotacoes.json()\n",
    "print(cotacoes_dic)"
   ]
  },
  {
   "cell_type": "markdown",
   "metadata": {},
   "source": [
    "#### Qual foi a última cotação do Dólar, do Euro e do BitCoin? (Sua resposta vai dar diferente do gabarito, porque estamos rodando o código em momentos diferentes, mas o seu código deve ser o mesmo/parecido)"
   ]
  },
  {
   "cell_type": "code",
   "execution_count": 10,
   "metadata": {
    "ExecuteTime": {
     "end_time": "2024-02-27T21:59:47.952084200Z",
     "start_time": "2024-02-27T21:59:47.944461400Z"
    }
   },
   "outputs": [
    {
     "name": "stdout",
     "output_type": "stream",
     "text": [
      "Dólar: 4.9335 USD\n",
      "Euro: 5.346 EUR\n",
      "Bitcoin: 282173 BTC\n"
     ]
    }
   ],
   "source": [
    "print('Dólar: {} USD'.format(cotacoes_dic['USD']['bid']))\n",
    "print('Euro: {} EUR'.format(cotacoes_dic['EUR']['bid']))\n",
    "print('Bitcoin: {} BTC'.format(cotacoes_dic['BTC']['bid']))"
   ]
  },
  {
   "cell_type": "markdown",
   "metadata": {},
   "source": [
    "#### Pegar a cotação dos últimos 30 dias do dólar (Sua resposta vai dar diferente do gabarito, porque estamos rodando o código em momentos diferentes, mas o seu código deve ser o mesmo/parecido)"
   ]
  },
  {
   "cell_type": "code",
   "execution_count": 37,
   "metadata": {
    "ExecuteTime": {
     "end_time": "2024-02-27T22:22:39.127343900Z",
     "start_time": "2024-02-27T22:22:38.409509200Z"
    }
   },
   "outputs": [
    {
     "name": "stdout",
     "output_type": "stream",
     "text": [
      "Data: 2024-01-24 18:30:01, Valor do Bid: 4.9335\n",
      "Data: 2024-01-25 18:30:01, Valor do Bid: 4.9165\n",
      "Data: 2024-01-26 18:29:38, Valor do Bid: 4.917\n",
      "Data: 2024-01-26 18:30:01, Valor do Bid: 4.9168\n",
      "Data: 2024-01-29 18:30:02, Valor do Bid: 4.9518\n",
      "Data: 2024-01-30 19:30:04, Valor do Bid: 4.9496\n",
      "Data: 2024-01-31 18:30:00, Valor do Bid: 4.9526\n",
      "Data: 2024-02-01 19:12:03, Valor do Bid: 4.9163\n",
      "Data: 2024-02-02 18:29:40, Valor do Bid: 4.9713\n",
      "Data: 2024-02-05 18:30:02, Valor do Bid: 4.9854\n",
      "Data: 2024-02-06 18:30:01, Valor do Bid: 4.9634\n",
      "Data: 2024-02-07 19:30:04, Valor do Bid: 4.9712\n",
      "Data: 2024-02-08 18:30:01, Valor do Bid: 4.992\n",
      "Data: 2024-02-09 18:29:55, Valor do Bid: 4.9512\n",
      "Data: 2024-02-09 18:30:01, Valor do Bid: 4.9517\n",
      "Data: 2024-02-11 20:59:20, Valor do Bid: 4.9536\n",
      "Data: 2024-02-12 20:59:20, Valor do Bid: 4.9536\n",
      "Data: 2024-02-13 20:58:40, Valor do Bid: 4.9536\n",
      "Data: 2024-02-14 19:30:03, Valor do Bid: 4.9735\n",
      "Data: 2024-02-15 19:14:05, Valor do Bid: 4.9732\n",
      "Data: 2024-02-16 18:29:22, Valor do Bid: 4.9668\n",
      "Data: 2024-02-16 18:30:03, Valor do Bid: 4.9665\n",
      "Data: 2024-02-19 18:30:12, Valor do Bid: 4.9564\n",
      "Data: 2024-02-20 20:58:20, Valor do Bid: 4.9275\n",
      "Data: 2024-02-21 18:28:57, Valor do Bid: 4.9326\n",
      "Data: 2024-02-22 19:30:05, Valor do Bid: 4.9639\n",
      "Data: 2024-02-23 18:55:35, Valor do Bid: 4.9938\n",
      "Data: 2024-02-25 20:59:20, Valor do Bid: 4.9938\n",
      "Data: 2024-02-26 20:59:01, Valor do Bid: 4.9799\n",
      "Data: 2024-02-27 19:17:40, Valor do Bid: 4.9335\n"
     ]
    }
   ],
   "source": [
    "import requests\n",
    "import json\n",
    "from datetime import datetime\n",
    "\n",
    "cotacoes_dolar_30d = requests.get('https://economia.awesomeapi.com.br/json/daily/USD-BRL/30')\n",
    "cotacoes_dolar_30d_dic = cotacoes_dolar_30d.json()\n",
    "\n",
    "\n",
    "\n",
    "# Função para converter o timestamp em formato de data legível\n",
    "def timestamp_para_data(timestamp):\n",
    "    return datetime.fromtimestamp(int(timestamp)).strftime('%Y-%m-%d %H:%M:%S')\n",
    "\n",
    "# List comprehension para extrair a data e o valor do 'bid' e formatá-los\n",
    "lista_cotacoes_dolar = [(timestamp_para_data(item['timestamp']), float(item['bid'])) for item in cotacoes_dolar_30d_dic]\n",
    "\n",
    "# Imprimindo a lista formatada do último item para o primeiro\n",
    "for data, valor in reversed(lista_cotacoes_dolar):\n",
    "    print(f'Data: {data}, Valor do Bid: {valor}')\n"
   ]
  },
  {
   "cell_type": "markdown",
   "metadata": {},
   "source": [
    "#### Pegar as cotações do BitCoin de Jan/20 a Out/20"
   ]
  },
  {
   "cell_type": "code",
   "execution_count": 13,
   "metadata": {
    "ExecuteTime": {
     "end_time": "2024-02-28T21:57:45.506780Z",
     "start_time": "2024-02-28T21:57:44.704367900Z"
    }
   },
   "outputs": [
    {
     "name": "stdout",
     "output_type": "stream",
     "text": [
      "[35150.0, 37025.0, 36836.7, 37415.0, 37158.0, 36652.1, 36800.0, 38000.1, 40050.0, 41050.0, 41212.0, 41715.0, 43392.0, 43070.0, 46424.7, 46610.0, 47626.0, 47900.0, 48553.0, 48852.0, 49700.0, 52500.0, 57700.0, 52609.1, 52499.0, 49225.0, 49700.0, 51488.8, 54450.0, 56208.0, 53609.0, 54207.4, 55300.0, 55651.1, 55760.8, 54831.8, 51440.0, 51400.0, 51600.0, 49560.0, 49735.0, 47625.1, 49000.2, 51700.3, 50650.0, 51500.0, 50865.1, 53600.0, 54001.0, 49500.4, 50400.6, 48800.4, 48820.6, 49133.5, 48096.8, 48201.0, 49350.0, 47000.0, 48100.1, 47788.9, 47750.0, 48501.4, 49679.0, 49290.6, 50405.0, 49700.0, 49750.0, 49782.0, 50710.0, 49759.1, 49800.0, 49755.0, 49915.1, 49678.2, 49746.8, 49840.0, 49960.0, 49800.0, 49208.8, 48815.5, 48993.1, 48850.0, 49890.0, 49900.1, 50360.1, 49890.0, 49905.9, 49750.0, 49920.0, 50041.3, 50073.4, 49868.0, 49320.0, 49702.1, 49651.8, 49680.0, 49516.5, 49143.0, 49321.0, 49850.0, 49951.1, 50400.2, 50402.0, 55300.0, 56161.0, 57490.0, 57330.0, 58950.0, 61298.1, 58296.3, 59800.0, 59951.0, 61902.2, 63302.0, 63140.0, 63715.0, 63700.0, 65303.8, 62300.0, 63120.0, 63210.3, 63905.0, 64280.0, 64270.3, 67501.0, 66453.3, 65800.0, 66655.0, 65657.4, 66112.0, 66100.0, 66360.9, 63606.0, 64655.2, 63599.9, 63016.2, 62700.0, 63350.9, 64200.0, 64900.0, 61939.0, 55336.6, 56500.0, 54555.7, 55550.3, 55102.2, 54348.3, 55059.1, 55511.0, 55821.2, 55856.7, 55566.0, 56908.9, 57700.0, 58250.0, 57807.2, 59285.0, 59750.0, 59100.0, 57050.6, 57880.5, 57884.0, 59501.1, 59845.0, 59720.5, 59638.4, 60600.1, 60995.0, 60950.1, 60390.7, 60512.5, 60018.1, 60569.2, 60210.3, 59801.0, 60265.0, 61211.5, 61960.0, 62747.2, 62701.0, 63558.3, 63601.7, 64100.6, 65000.0, 64400.0, 64500.0, 64950.1, 66000.3, 66952.4, 71401.0, 72251.2, 72202.4, 73300.0, 73200.0, 73685.5, 77888.1, 76550.1, 77950.2, 78101.0, 79401.1]\n",
      "Data: 2020-04-15 20:59:49, Valor do Bid: 35150.0\n",
      "Data: 2020-04-16 20:58:18, Valor do Bid: 37025.0\n",
      "Data: 2020-04-17 20:59:42, Valor do Bid: 36836.7\n",
      "Data: 2020-04-18 20:57:05, Valor do Bid: 37415.0\n",
      "Data: 2020-04-19 20:57:27, Valor do Bid: 37158.0\n",
      "Data: 2020-04-20 20:59:19, Valor do Bid: 36652.1\n",
      "Data: 2020-04-21 20:59:24, Valor do Bid: 36800.0\n",
      "Data: 2020-04-22 20:58:03, Valor do Bid: 38000.1\n",
      "Data: 2020-04-23 20:59:13, Valor do Bid: 40050.0\n",
      "Data: 2020-04-24 20:58:02, Valor do Bid: 41050.0\n",
      "Data: 2020-04-25 20:59:08, Valor do Bid: 41212.0\n",
      "Data: 2020-04-26 20:59:43, Valor do Bid: 41715.0\n",
      "Data: 2020-04-27 20:58:51, Valor do Bid: 43392.0\n",
      "Data: 2020-04-28 20:57:51, Valor do Bid: 43070.0\n",
      "Data: 2020-04-29 20:59:59, Valor do Bid: 46424.7\n",
      "Data: 2020-04-30 20:58:44, Valor do Bid: 46610.0\n",
      "Data: 2020-05-01 20:57:52, Valor do Bid: 47626.0\n",
      "Data: 2020-05-02 20:57:24, Valor do Bid: 47900.0\n",
      "Data: 2020-05-03 20:57:15, Valor do Bid: 48553.0\n",
      "Data: 2020-05-04 20:57:03, Valor do Bid: 48852.0\n",
      "Data: 2020-05-05 20:57:18, Valor do Bid: 49700.0\n",
      "Data: 2020-05-06 20:57:42, Valor do Bid: 52500.0\n",
      "Data: 2020-05-07 20:59:48, Valor do Bid: 57700.0\n",
      "Data: 2020-05-08 20:57:29, Valor do Bid: 52609.1\n",
      "Data: 2020-05-09 20:57:50, Valor do Bid: 52499.0\n",
      "Data: 2020-05-10 20:59:23, Valor do Bid: 49225.0\n",
      "Data: 2020-05-11 20:57:55, Valor do Bid: 49700.0\n",
      "Data: 2020-05-12 20:58:53, Valor do Bid: 51488.8\n",
      "Data: 2020-05-13 20:57:20, Valor do Bid: 54450.0\n",
      "Data: 2020-05-14 20:59:34, Valor do Bid: 56208.0\n",
      "Data: 2020-05-15 20:58:00, Valor do Bid: 53609.0\n",
      "Data: 2020-05-16 20:59:15, Valor do Bid: 54207.4\n",
      "Data: 2020-05-17 20:57:14, Valor do Bid: 55300.0\n",
      "Data: 2020-05-18 20:57:38, Valor do Bid: 55651.1\n",
      "Data: 2020-05-19 20:59:40, Valor do Bid: 55760.8\n",
      "Data: 2020-05-20 20:58:11, Valor do Bid: 54831.8\n",
      "Data: 2020-05-21 20:58:07, Valor do Bid: 51440.0\n",
      "Data: 2020-05-22 20:57:24, Valor do Bid: 51400.0\n",
      "Data: 2020-05-23 20:59:40, Valor do Bid: 51600.0\n",
      "Data: 2020-05-24 20:57:17, Valor do Bid: 49560.0\n",
      "Data: 2020-05-25 20:58:46, Valor do Bid: 49735.0\n",
      "Data: 2020-05-26 20:56:44, Valor do Bid: 47625.1\n",
      "Data: 2020-05-27 20:59:20, Valor do Bid: 49000.2\n",
      "Data: 2020-05-28 20:58:04, Valor do Bid: 51700.3\n",
      "Data: 2020-05-29 20:58:11, Valor do Bid: 50650.0\n",
      "Data: 2020-05-30 20:58:23, Valor do Bid: 51500.0\n",
      "Data: 2020-05-31 20:57:26, Valor do Bid: 50865.1\n",
      "Data: 2020-06-01 20:59:00, Valor do Bid: 53600.0\n",
      "Data: 2020-06-01 21:51:33, Valor do Bid: 54001.0\n",
      "Data: 2020-06-03 20:58:32, Valor do Bid: 49500.4\n",
      "Data: 2020-06-04 20:57:15, Valor do Bid: 50400.6\n",
      "Data: 2020-06-05 20:59:36, Valor do Bid: 48800.4\n",
      "Data: 2020-06-06 20:58:36, Valor do Bid: 48820.6\n",
      "Data: 2020-06-07 20:58:20, Valor do Bid: 49133.5\n",
      "Data: 2020-06-08 20:57:02, Valor do Bid: 48096.8\n",
      "Data: 2020-06-09 20:59:53, Valor do Bid: 48201.0\n",
      "Data: 2020-06-10 20:59:47, Valor do Bid: 49350.0\n",
      "Data: 2020-06-11 20:58:18, Valor do Bid: 47000.0\n",
      "Data: 2020-06-12 20:59:24, Valor do Bid: 48100.1\n",
      "Data: 2020-06-13 20:58:10, Valor do Bid: 47788.9\n",
      "Data: 2020-06-14 20:58:40, Valor do Bid: 47750.0\n",
      "Data: 2020-06-15 20:59:15, Valor do Bid: 48501.4\n",
      "Data: 2020-06-16 20:58:14, Valor do Bid: 49679.0\n",
      "Data: 2020-06-17 20:57:39, Valor do Bid: 49290.6\n",
      "Data: 2020-06-18 20:58:18, Valor do Bid: 50405.0\n",
      "Data: 2020-06-19 20:58:51, Valor do Bid: 49700.0\n",
      "Data: 2020-06-20 20:56:09, Valor do Bid: 49750.0\n",
      "Data: 2020-06-21 20:57:03, Valor do Bid: 49782.0\n",
      "Data: 2020-06-22 20:58:48, Valor do Bid: 50710.0\n",
      "Data: 2020-06-23 20:57:10, Valor do Bid: 49759.1\n",
      "Data: 2020-06-24 20:55:56, Valor do Bid: 49800.0\n",
      "Data: 2020-06-25 20:59:40, Valor do Bid: 49755.0\n",
      "Data: 2020-06-26 20:59:09, Valor do Bid: 49915.1\n",
      "Data: 2020-06-27 20:59:18, Valor do Bid: 49678.2\n",
      "Data: 2020-06-28 20:58:35, Valor do Bid: 49746.8\n",
      "Data: 2020-06-29 20:57:43, Valor do Bid: 49840.0\n",
      "Data: 2020-06-30 20:57:39, Valor do Bid: 49960.0\n",
      "Data: 2020-07-01 20:59:12, Valor do Bid: 49800.0\n",
      "Data: 2020-07-02 20:57:30, Valor do Bid: 49208.8\n",
      "Data: 2020-07-03 20:58:02, Valor do Bid: 48815.5\n",
      "Data: 2020-07-04 20:58:49, Valor do Bid: 48993.1\n",
      "Data: 2020-07-05 20:58:04, Valor do Bid: 48850.0\n",
      "Data: 2020-07-06 20:56:51, Valor do Bid: 49890.0\n",
      "Data: 2020-07-07 20:59:46, Valor do Bid: 49900.1\n",
      "Data: 2020-07-08 20:58:41, Valor do Bid: 50360.1\n",
      "Data: 2020-07-09 20:54:54, Valor do Bid: 49890.0\n",
      "Data: 2020-07-10 20:57:07, Valor do Bid: 49905.9\n",
      "Data: 2020-07-11 20:58:27, Valor do Bid: 49750.0\n",
      "Data: 2020-07-12 20:57:28, Valor do Bid: 49920.0\n",
      "Data: 2020-07-13 20:58:36, Valor do Bid: 50041.3\n",
      "Data: 2020-07-14 20:59:11, Valor do Bid: 50073.4\n",
      "Data: 2020-07-15 20:58:39, Valor do Bid: 49868.0\n",
      "Data: 2020-07-16 20:56:44, Valor do Bid: 49320.0\n",
      "Data: 2020-07-17 20:59:01, Valor do Bid: 49702.1\n",
      "Data: 2020-07-18 20:57:17, Valor do Bid: 49651.8\n",
      "Data: 2020-07-19 20:53:42, Valor do Bid: 49680.0\n",
      "Data: 2020-07-20 20:59:10, Valor do Bid: 49516.5\n",
      "Data: 2020-07-21 20:59:42, Valor do Bid: 49143.0\n",
      "Data: 2020-07-22 20:59:24, Valor do Bid: 49321.0\n",
      "Data: 2020-07-23 20:57:05, Valor do Bid: 49850.0\n",
      "Data: 2020-07-24 20:57:19, Valor do Bid: 49951.1\n",
      "Data: 2020-07-25 20:55:17, Valor do Bid: 50400.2\n",
      "Data: 2020-07-26 20:57:35, Valor do Bid: 50402.0\n",
      "Data: 2020-07-27 20:58:27, Valor do Bid: 55300.0\n",
      "Data: 2020-07-28 20:57:46, Valor do Bid: 56161.0\n",
      "Data: 2020-07-29 20:59:00, Valor do Bid: 57490.0\n",
      "Data: 2020-07-30 20:59:41, Valor do Bid: 57330.0\n",
      "Data: 2020-07-31 20:58:34, Valor do Bid: 58950.0\n",
      "Data: 2020-08-01 20:56:24, Valor do Bid: 61298.1\n",
      "Data: 2020-08-02 20:57:26, Valor do Bid: 58296.3\n",
      "Data: 2020-08-03 20:56:55, Valor do Bid: 59800.0\n",
      "Data: 2020-08-04 20:58:15, Valor do Bid: 59951.0\n",
      "Data: 2020-08-05 20:57:16, Valor do Bid: 61902.2\n",
      "Data: 2020-08-06 20:59:25, Valor do Bid: 63302.0\n",
      "Data: 2020-08-07 20:56:46, Valor do Bid: 63140.0\n",
      "Data: 2020-08-08 20:56:50, Valor do Bid: 63715.0\n",
      "Data: 2020-08-09 20:56:56, Valor do Bid: 63700.0\n",
      "Data: 2020-08-10 20:59:06, Valor do Bid: 65303.8\n",
      "Data: 2020-08-11 20:57:27, Valor do Bid: 62300.0\n",
      "Data: 2020-08-12 20:56:54, Valor do Bid: 63120.0\n",
      "Data: 2020-08-13 20:59:12, Valor do Bid: 63210.3\n",
      "Data: 2020-08-14 20:59:35, Valor do Bid: 63905.0\n",
      "Data: 2020-08-15 20:56:59, Valor do Bid: 64280.0\n",
      "Data: 2020-08-16 20:59:06, Valor do Bid: 64270.3\n",
      "Data: 2020-08-17 20:59:06, Valor do Bid: 67501.0\n",
      "Data: 2020-08-18 20:57:13, Valor do Bid: 66453.3\n",
      "Data: 2020-08-19 20:58:54, Valor do Bid: 65800.0\n",
      "Data: 2020-08-20 20:59:25, Valor do Bid: 66655.0\n",
      "Data: 2020-08-21 20:58:04, Valor do Bid: 65657.4\n",
      "Data: 2020-08-22 20:57:35, Valor do Bid: 66112.0\n",
      "Data: 2020-08-23 20:56:25, Valor do Bid: 66100.0\n",
      "Data: 2020-08-24 20:59:47, Valor do Bid: 66360.9\n",
      "Data: 2020-08-25 20:59:37, Valor do Bid: 63606.0\n",
      "Data: 2020-08-26 20:59:32, Valor do Bid: 64655.2\n",
      "Data: 2020-08-27 20:59:53, Valor do Bid: 63599.9\n",
      "Data: 2020-08-28 20:59:19, Valor do Bid: 63016.2\n",
      "Data: 2020-08-29 20:58:49, Valor do Bid: 62700.0\n",
      "Data: 2020-08-30 20:59:54, Valor do Bid: 63350.9\n",
      "Data: 2020-08-31 20:57:05, Valor do Bid: 64200.0\n",
      "Data: 2020-09-01 20:58:59, Valor do Bid: 64900.0\n",
      "Data: 2020-09-02 20:58:57, Valor do Bid: 61939.0\n",
      "Data: 2020-09-03 20:58:49, Valor do Bid: 55336.6\n",
      "Data: 2020-09-04 20:58:41, Valor do Bid: 56500.0\n",
      "Data: 2020-09-05 20:57:41, Valor do Bid: 54555.7\n",
      "Data: 2020-09-06 20:58:00, Valor do Bid: 55550.3\n",
      "Data: 2020-09-07 20:57:50, Valor do Bid: 55102.2\n",
      "Data: 2020-09-08 20:57:11, Valor do Bid: 54348.3\n",
      "Data: 2020-09-09 20:57:57, Valor do Bid: 55059.1\n",
      "Data: 2020-09-10 20:57:08, Valor do Bid: 55511.0\n",
      "Data: 2020-09-11 20:58:47, Valor do Bid: 55821.2\n",
      "Data: 2020-09-12 20:59:14, Valor do Bid: 55856.7\n",
      "Data: 2020-09-13 20:59:12, Valor do Bid: 55566.0\n",
      "Data: 2020-09-14 20:59:07, Valor do Bid: 56908.9\n",
      "Data: 2020-09-15 20:55:10, Valor do Bid: 57700.0\n",
      "Data: 2020-09-16 20:58:29, Valor do Bid: 58250.0\n",
      "Data: 2020-09-17 20:59:35, Valor do Bid: 57807.2\n",
      "Data: 2020-09-18 20:55:31, Valor do Bid: 59285.0\n",
      "Data: 2020-09-19 20:57:58, Valor do Bid: 59750.0\n",
      "Data: 2020-09-20 20:58:45, Valor do Bid: 59100.0\n",
      "Data: 2020-09-21 20:58:21, Valor do Bid: 57050.6\n",
      "Data: 2020-09-22 20:59:22, Valor do Bid: 57880.5\n",
      "Data: 2020-09-23 20:58:26, Valor do Bid: 57884.0\n",
      "Data: 2020-09-24 20:56:15, Valor do Bid: 59501.1\n",
      "Data: 2020-09-25 20:57:23, Valor do Bid: 59845.0\n",
      "Data: 2020-09-26 20:58:23, Valor do Bid: 59720.5\n",
      "Data: 2020-09-27 20:57:41, Valor do Bid: 59638.4\n",
      "Data: 2020-09-28 20:59:14, Valor do Bid: 60600.1\n",
      "Data: 2020-09-29 20:59:22, Valor do Bid: 60995.0\n",
      "Data: 2020-09-30 20:58:07, Valor do Bid: 60950.1\n",
      "Data: 2020-10-01 20:59:45, Valor do Bid: 60390.7\n",
      "Data: 2020-10-02 20:58:41, Valor do Bid: 60512.5\n",
      "Data: 2020-10-03 20:59:57, Valor do Bid: 60018.1\n",
      "Data: 2020-10-04 20:58:36, Valor do Bid: 60569.2\n",
      "Data: 2020-10-05 20:57:11, Valor do Bid: 60210.3\n",
      "Data: 2020-10-06 20:58:40, Valor do Bid: 59801.0\n",
      "Data: 2020-10-07 20:59:30, Valor do Bid: 60265.0\n",
      "Data: 2020-10-08 20:57:54, Valor do Bid: 61211.5\n",
      "Data: 2020-10-09 20:58:48, Valor do Bid: 61960.0\n",
      "Data: 2020-10-10 20:58:34, Valor do Bid: 62747.2\n",
      "Data: 2020-10-11 20:59:37, Valor do Bid: 62701.0\n",
      "Data: 2020-10-12 20:57:38, Valor do Bid: 63558.3\n",
      "Data: 2020-10-13 20:59:24, Valor do Bid: 63601.7\n",
      "Data: 2020-10-14 20:58:00, Valor do Bid: 64100.6\n",
      "Data: 2020-10-15 20:59:51, Valor do Bid: 65000.0\n",
      "Data: 2020-10-16 20:55:13, Valor do Bid: 64400.0\n",
      "Data: 2020-10-17 20:55:41, Valor do Bid: 64500.0\n",
      "Data: 2020-10-18 20:59:37, Valor do Bid: 64950.1\n",
      "Data: 2020-10-19 20:57:19, Valor do Bid: 66000.3\n",
      "Data: 2020-10-20 20:59:51, Valor do Bid: 66952.4\n",
      "Data: 2020-10-21 20:58:51, Valor do Bid: 71401.0\n",
      "Data: 2020-10-22 20:58:50, Valor do Bid: 72251.2\n",
      "Data: 2020-10-23 20:57:51, Valor do Bid: 72202.4\n",
      "Data: 2020-10-24 20:58:03, Valor do Bid: 73300.0\n",
      "Data: 2020-10-25 20:57:29, Valor do Bid: 73200.0\n",
      "Data: 2020-10-26 20:57:57, Valor do Bid: 73685.5\n",
      "Data: 2020-10-27 20:58:19, Valor do Bid: 77888.1\n",
      "Data: 2020-10-28 20:57:36, Valor do Bid: 76550.1\n",
      "Data: 2020-10-29 20:58:22, Valor do Bid: 77950.2\n",
      "Data: 2020-10-30 20:59:38, Valor do Bid: 78101.0\n",
      "Data: 2020-10-31 20:58:32, Valor do Bid: 79401.1\n"
     ]
    }
   ],
   "source": [
    "import requests\n",
    "import json\n",
    "from datetime import datetime\n",
    "\n",
    "def timestamp_para_data(timestamp):\n",
    "    return datetime.fromtimestamp(int(timestamp)).strftime('%Y-%m-%d %H:%M:%S')\n",
    "\n",
    "\n",
    "bitcoin_jan_out = requests.get('https://economia.awesomeapi.com.br/json/daily/BTC-BRL/200?start_date=20200101&end_date=20201031')\n",
    "bitcoin_jan_out_dic = bitcoin_jan_out.json()\n",
    "\n",
    "bitcoin_jan_out_exp = [(timestamp_para_data(item['timestamp']), float(item['bid'])) for item in bitcoin_jan_out_dic]\n",
    "\n",
    "test = [float(item['bid']) for item in bitcoin_jan_out_dic]\n",
    "test.reverse()\n",
    "\n",
    "print(test)\n",
    "# Imprimindo a lista formatada do último item para o primeiro\n",
    "for data, valor in reversed(bitcoin_jan_out_exp):\n",
    "    print(f'Data: {data}, Valor do Bid: {valor}')\n",
    "\n",
    "\n",
    "\n",
    "\n"
   ]
  },
  {
   "cell_type": "markdown",
   "metadata": {},
   "source": [
    "#### Gráfico com as cotações do BitCoin"
   ]
  },
  {
   "cell_type": "code",
   "execution_count": 15,
   "metadata": {
    "ExecuteTime": {
     "end_time": "2024-02-28T21:57:59.456917800Z",
     "start_time": "2024-02-28T21:57:59.288364900Z"
    }
   },
   "outputs": [
    {
     "data": {
      "text/plain": "<Figure size 1500x500 with 1 Axes>",
      "image/png": "[encoded data removed]"
     },
     "metadata": {},
     "output_type": "display_data"
    }
   ],
   "source": [
    "import matplotlib.pyplot as plt\n",
    "from numpy import arange\n",
    "\n",
    "plt.figure(figsize=(15, 5))\n",
    "plt.plot(test)\n",
    "plt.xlabel('dias')\n",
    "plt.ylabel('valor bitcoin')\n",
    "plt.title('Crescimento das Vendas ao Longo do Ano')\n",
    "plt.show()"
   ]
  }
 ],
 "metadata": {
  "kernelspec": {
   "display_name": "Python 3",
   "language": "python",
   "name": "python3"
  },
  "language_info": {
   "codemirror_mode": {
    "name": "ipython",
    "version": 3
   },
   "file_extension": ".py",
   "mimetype": "text/x-python",
   "name": "python",
   "nbconvert_exporter": "python",
   "pygments_lexer": "ipython3",
   "version": "3.8.3"
  }
 },
 "nbformat": 4,
 "nbformat_minor": 4
}
