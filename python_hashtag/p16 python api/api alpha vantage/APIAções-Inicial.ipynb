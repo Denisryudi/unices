{
 "cells": [
  {
   "cell_type": "markdown",
   "id": "83eb68f8",
   "metadata": {},
   "source": [
    "### Alpha Vantage\n",
    "\n",
    "https://www.alphavantage.co/documentation/"
   ]
  },
  {
   "cell_type": "markdown",
   "id": "46b1957f",
   "metadata": {},
   "source": [
    "#### Pegando cotações semanais - JSON"
   ]
  },
  {
   "cell_type": "code",
   "execution_count": 39,
   "id": "589373bd",
   "metadata": {
    "ExecuteTime": {
     "end_time": "2024-03-06T01:41:36.332274Z",
     "start_time": "2024-03-06T01:41:35.291672900Z"
    }
   },
   "outputs": [
    {
     "name": "stdout",
     "output_type": "stream",
     "text": [
      "{'Information': 'Thank you for using Alpha Vantage! Our standard API rate limit is 25 requests per day. Please subscribe to any of the premium plans at https://www.alphavantage.co/premium/ to instantly remove all daily rate limits.'}\n",
      "{'Information': 'Thank you for using Alpha Vantage! Our standard API rate '\n",
      "                'limit is 25 requests per day. Please subscribe to any of the '\n",
      "                'premium plans at https://www.alphavantage.co/premium/ to '\n",
      "                'instantly remove all daily rate limits.'}\n"
     ]
    }
   ],
   "source": [
    "import requests\n",
    "import pprint\n",
    "from dotenv import load_dotenv\n",
    "import os\n",
    "\n",
    "# Carrega as variáveis de ambiente do arquivo .env\n",
    "load_dotenv()\n",
    "\n",
    "# Acessa a variável de ambiente CHAVE_API\n",
    "chave_api = os.getenv('CHAVE_API')\n",
    "\n",
    "\n",
    "url = f'https://www.alphavantage.co/query?function=TIME_SERIES_DAILY&symbol=OIBR3.SA&apikey={chave_api}'\n",
    "r = requests.get(url)\n",
    "data = r.json()\n",
    "\n",
    "print(data)\n",
    "\n",
    "pprint.pprint(data)\n"
   ]
  },
  {
   "cell_type": "markdown",
   "id": "31bf63d0",
   "metadata": {},
   "source": [
    "#### Pegando cotações semanais - CSV"
   ]
  },
  {
   "cell_type": "code",
   "execution_count": 35,
   "id": "21d22fd4",
   "metadata": {
    "ExecuteTime": {
     "end_time": "2024-03-06T01:15:50.627213Z",
     "start_time": "2024-03-06T01:15:49.817222Z"
    }
   },
   "outputs": [
    {
     "name": "stdout",
     "output_type": "stream",
     "text": [
      "                                                   {\n",
      "0      \"Information\": \"Thank you for using Alpha ...\n",
      "1                                                  }\n"
     ]
    }
   ],
   "source": [
    "import pandas as pd\n",
    "from io import StringIO\n",
    "\n",
    "url = f'https://www.alphavantage.co/query?function=TIME_SERIES_WEEKLY_ADJUSTED&symbol=IBM&apikey={chave_api}&datatype=csv'\n",
    "r = requests.get(url)\n",
    "\n",
    "tabela = pd.read_csv(StringIO(r.text))\n",
    "print(tabela)"
   ]
  },
  {
   "cell_type": "markdown",
   "id": "f64ff652",
   "metadata": {},
   "source": [
    "### Cotações"
   ]
  },
  {
   "cell_type": "code",
   "execution_count": 37,
   "id": "a5cd7b99",
   "metadata": {
    "ExecuteTime": {
     "end_time": "2024-03-06T01:21:32.879939600Z",
     "start_time": "2024-03-06T01:21:30.070975600Z"
    }
   },
   "outputs": [
    {
     "data": {
      "text/plain": "                                                   {\n0      \"Information\": \"Thank you for using Alpha ...\n1                                                  }\n0      \"Information\": \"Thank you for using Alpha ...\n1                                                  }\n0      \"Information\": \"Thank you for using Alpha ...\n1                                                  }",
      "text/html": "<div>\n<style scoped>\n    .dataframe tbody tr th:only-of-type {\n        vertical-align: middle;\n    }\n\n    .dataframe tbody tr th {\n        vertical-align: top;\n    }\n\n    .dataframe thead th {\n        text-align: right;\n    }\n</style>\n<table border=\"1\" class=\"dataframe\">\n  <thead>\n    <tr style=\"text-align: right;\">\n      <th></th>\n      <th>{</th>\n    </tr>\n  </thead>\n  <tbody>\n    <tr>\n      <th>0</th>\n      <td>\"Information\": \"Thank you for using Alpha ...</td>\n    </tr>\n    <tr>\n      <th>1</th>\n      <td>}</td>\n    </tr>\n    <tr>\n      <th>0</th>\n      <td>\"Information\": \"Thank you for using Alpha ...</td>\n    </tr>\n    <tr>\n      <th>1</th>\n      <td>}</td>\n    </tr>\n    <tr>\n      <th>0</th>\n      <td>\"Information\": \"Thank you for using Alpha ...</td>\n    </tr>\n    <tr>\n      <th>1</th>\n      <td>}</td>\n    </tr>\n  </tbody>\n</table>\n</div>"
     },
     "metadata": {},
     "output_type": "display_data"
    }
   ],
   "source": [
    "acoes = ['ITUB4', 'ABEV3', 'BBAS3']\n",
    "\n",
    "compilada = pd.DataFrame()\n",
    "for acao in acoes: \n",
    "    \n",
    "    url = f'https://www.alphavantage.co/query?function=TIME_SERIES_WEEKLY_ADJUSTED&symbol={acao}&apikey={chave_api}&datatype=csv'\n",
    "    r = requests.get(url)\n",
    "    tabela = pd.read_csv(StringIO(r.text))\n",
    "    lista_tabelas = [compilada, tabela]\n",
    "    compilada = pd.concat(lista_tabelas)\n",
    "    \n",
    "display(compilada)\n",
    "\n"
   ]
  },
  {
   "cell_type": "markdown",
   "id": "7ec62493",
   "metadata": {},
   "source": [
    "### Encontrar ativos"
   ]
  },
  {
   "cell_type": "code",
   "execution_count": null,
   "id": "0f9de0f0",
   "metadata": {},
   "outputs": [],
   "source": [
    "url = f'https://www.alphavantage.co/query?function=EARNINGS&symbol=AMZN&apikey={chave_api}'\n",
    "r = requests.get(url)\n",
    "data = r.json()\n",
    "\n",
    "print(data)"
   ]
  },
  {
   "cell_type": "markdown",
   "id": "9beab6ae",
   "metadata": {},
   "source": [
    "### Informações de Resultado"
   ]
  },
  {
   "cell_type": "code",
   "execution_count": null,
   "id": "672d9f62",
   "metadata": {},
   "outputs": [],
   "source": [
    "import pprint\n",
    "\n",
    "# pprint.pprint(data)\n",
    "\n",
    "resultado = pd.DataFrame(data['annualEarnings'])\n",
    "display(resultado)"
   ]
  }
 ],
 "metadata": {
  "kernelspec": {
   "display_name": "Python 3 (ipykernel)",
   "language": "python",
   "name": "python3"
  },
  "language_info": {
   "codemirror_mode": {
    "name": "ipython",
    "version": 3
   },
   "file_extension": ".py",
   "mimetype": "text/x-python",
   "name": "python",
   "nbconvert_exporter": "python",
   "pygments_lexer": "ipython3",
   "version": "3.9.7"
  }
 },
 "nbformat": 4,
 "nbformat_minor": 5
}
