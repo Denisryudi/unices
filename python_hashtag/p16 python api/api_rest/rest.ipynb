{
 "cells": [
  {
   "cell_type": "code",
   "execution_count": 8,
   "id": "initial_id",
   "metadata": {
    "collapsed": true,
    "ExecuteTime": {
     "end_time": "2024-03-01T20:04:53.624965900Z",
     "start_time": "2024-03-01T20:04:52.898724400Z"
    }
   },
   "outputs": [
    {
     "name": "stdout",
     "output_type": "stream",
     "text": [
      "{'cep': '22470040', 'address_type': 'Avenida', 'address_name': 'Lineu de Paula Machado', 'address': 'Avenida Lineu de Paula Machado', 'state': 'RJ', 'district': 'Lagoa', 'lat': '-22.96422', 'lng': '-43.21583', 'city': 'Rio de Janeiro', 'city_ibge': '3304557', 'ddd': '21'}\n",
      "None\n"
     ]
    }
   ],
   "source": [
    "import requests\n",
    "\n",
    "link = \"https://cep.awesomeapi.com.br/json/22470040\"\n",
    "\n",
    "requisicao = requests.get(link)\n",
    "requisicao_json = requisicao.json()\n",
    "print(print(requisicao_json))"
   ]
  },
  {
   "cell_type": "code",
   "outputs": [
    {
     "name": "stdout",
     "output_type": "stream",
     "text": [
      " * Serving Flask app '__main__'\n",
      " * Debug mode: off\n"
     ]
    },
    {
     "name": "stderr",
     "output_type": "stream",
     "text": [
      "WARNING: This is a development server. Do not use it in a production deployment. Use a production WSGI server instead.\n",
      " * Running on http://127.0.0.1:5000\n",
      "Press CTRL+C to quit\n"
     ]
    }
   ],
   "source": [
    "from flask import Flask #install ipython, openpyxl, flask e panda\n",
    "#decorator + function\n",
    "#api retorna json\n",
    "app = Flask(__name__)\n",
    "\n",
    "@app.route(\"/\")\n",
    "def hello_world():\n",
    "    return \"<p>Hello, World!</p>\"\n",
    "\n",
    "app.run()"
   ],
   "metadata": {
    "collapsed": false,
    "ExecuteTime": {
     "end_time": "2024-03-05T03:20:26.306048Z",
     "start_time": "2024-03-05T03:17:55.283420500Z"
    }
   },
   "id": "acf6173072da399c",
   "execution_count": 1
  }
 ],
 "metadata": {
  "kernelspec": {
   "display_name": "Python 3",
   "language": "python",
   "name": "python3"
  },
  "language_info": {
   "codemirror_mode": {
    "name": "ipython",
    "version": 2
   },
   "file_extension": ".py",
   "mimetype": "text/x-python",
   "name": "python",
   "nbconvert_exporter": "python",
   "pygments_lexer": "ipython2",
   "version": "2.7.6"
  }
 },
 "nbformat": 4,
 "nbformat_minor": 5
}
