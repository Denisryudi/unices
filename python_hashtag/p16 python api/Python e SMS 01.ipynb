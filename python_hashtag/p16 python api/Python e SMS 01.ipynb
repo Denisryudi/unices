{
 "cells": [
  {
   "cell_type": "markdown",
   "metadata": {},
   "source": [
    "# Python e API com Login\n",
    "\n",
    "### O 1º Passo de toda API com Login é criar uma conta e pegar suas credenciais\n",
    "\n",
    "### No seu código, o 1º passo é sempre estabelecer a conexão com a API, usando seu login e suas credenciais\n",
    "\n",
    "- Como cada API é uma ferramenta diferente, cada uma delas pode exigir que você faça algum tipo de configuração, que vai estar explicada na API. No nosso caso, teremos que validar um número e criar um número de envio\n",
    "\n",
    "- Depois, usamos os métodos da API normalmente para fazer o que queremos. No nosso caso, enviar um SMS"
   ]
  },
  {
   "cell_type": "markdown",
   "metadata": {},
   "source": [
    "#### 1. Vamos criar um login no Twilio\n",
    "\n",
    "https://www.twilio.com/docs/libraries/python"
   ]
  },
  {
   "cell_type": "markdown",
   "metadata": {},
   "source": [
    "#### 2. Depois do Login, vamos pegar 3 informações:\n",
    "\n",
    "- ID da Conta\n",
    "- Token\n",
    "- Número de Envio"
   ]
  },
  {
   "cell_type": "markdown",
   "metadata": {},
   "source": [
    "#### 3. Agora vamos validar um número porque no Twilio, enviar SMS para um número válido é de graça"
   ]
  },
  {
   "cell_type": "markdown",
   "metadata": {},
   "source": [
    "#### 4. Agora podemos fazer o nosso código de acordo com as orientações do Twilio"
   ]
  },
  {
   "cell_type": "code",
   "execution_count": 4,
   "metadata": {
    "ExecuteTime": {
     "end_time": "2024-02-28T22:22:18.121417200Z",
     "start_time": "2024-02-28T22:22:18.075165200Z"
    }
   },
   "outputs": [
    {
     "ename": "TwilioException",
     "evalue": "Credentials are required to create a TwilioClient",
     "output_type": "error",
     "traceback": [
      "\u001B[1;31m---------------------------------------------------------------------------\u001B[0m",
      "\u001B[1;31mTwilioException\u001B[0m                           Traceback (most recent call last)",
      "Cell \u001B[1;32mIn[4], line 7\u001B[0m\n\u001B[0;32m      4\u001B[0m account_sid \u001B[38;5;241m=\u001B[39m \u001B[38;5;124m\"\u001B[39m\u001B[38;5;124m\"\u001B[39m\n\u001B[0;32m      5\u001B[0m auth_token  \u001B[38;5;241m=\u001B[39m \u001B[38;5;124m\"\u001B[39m\u001B[38;5;124m\"\u001B[39m\n\u001B[1;32m----> 7\u001B[0m client \u001B[38;5;241m=\u001B[39m Client(account_sid, auth_token)\n\u001B[0;32m      9\u001B[0m message \u001B[38;5;241m=\u001B[39m client\u001B[38;5;241m.\u001B[39mmessages\u001B[38;5;241m.\u001B[39mcreate(\n\u001B[0;32m     10\u001B[0m     to\u001B[38;5;241m=\u001B[39m\u001B[38;5;124m\"\u001B[39m\u001B[38;5;124m+myphone\u001B[39m\u001B[38;5;124m\"\u001B[39m,\n\u001B[0;32m     11\u001B[0m     from_\u001B[38;5;241m=\u001B[39m\u001B[38;5;124m\"\u001B[39m\u001B[38;5;124m15172241336\u001B[39m\u001B[38;5;124m\"\u001B[39m,\n\u001B[0;32m     12\u001B[0m     body\u001B[38;5;241m=\u001B[39m\u001B[38;5;124m\"\u001B[39m\u001B[38;5;124mHello from Python!\u001B[39m\u001B[38;5;124m\"\u001B[39m)\n\u001B[0;32m     14\u001B[0m \u001B[38;5;28mprint\u001B[39m(message\u001B[38;5;241m.\u001B[39msid)\n",
      "File \u001B[1;32m~\\anaconda3\\Lib\\site-packages\\twilio\\rest\\__init__.py:113\u001B[0m, in \u001B[0;36mClient.__init__\u001B[1;34m(self, username, password, account_sid, region, http_client, environment, edge, user_agent_extensions)\u001B[0m\n\u001B[0;32m     87\u001B[0m \u001B[38;5;28;01mdef\u001B[39;00m \u001B[38;5;21m__init__\u001B[39m(\n\u001B[0;32m     88\u001B[0m     \u001B[38;5;28mself\u001B[39m,\n\u001B[0;32m     89\u001B[0m     username\u001B[38;5;241m=\u001B[39m\u001B[38;5;28;01mNone\u001B[39;00m,\n\u001B[1;32m   (...)\u001B[0m\n\u001B[0;32m     96\u001B[0m     user_agent_extensions\u001B[38;5;241m=\u001B[39m\u001B[38;5;28;01mNone\u001B[39;00m,\n\u001B[0;32m     97\u001B[0m ):\n\u001B[0;32m     98\u001B[0m \u001B[38;5;250m    \u001B[39m\u001B[38;5;124;03m\"\"\"\u001B[39;00m\n\u001B[0;32m     99\u001B[0m \u001B[38;5;124;03m    Initializes the Twilio Client\u001B[39;00m\n\u001B[0;32m    100\u001B[0m \n\u001B[1;32m   (...)\u001B[0m\n\u001B[0;32m    111\u001B[0m \u001B[38;5;124;03m    :rtype: twilio.rest.Client\u001B[39;00m\n\u001B[0;32m    112\u001B[0m \u001B[38;5;124;03m    \"\"\"\u001B[39;00m\n\u001B[1;32m--> 113\u001B[0m     \u001B[38;5;28msuper\u001B[39m()\u001B[38;5;241m.\u001B[39m\u001B[38;5;21m__init__\u001B[39m(\n\u001B[0;32m    114\u001B[0m         username,\n\u001B[0;32m    115\u001B[0m         password,\n\u001B[0;32m    116\u001B[0m         account_sid,\n\u001B[0;32m    117\u001B[0m         region,\n\u001B[0;32m    118\u001B[0m         http_client,\n\u001B[0;32m    119\u001B[0m         environment,\n\u001B[0;32m    120\u001B[0m         edge,\n\u001B[0;32m    121\u001B[0m         user_agent_extensions,\n\u001B[0;32m    122\u001B[0m     )\n\u001B[0;32m    124\u001B[0m     \u001B[38;5;66;03m# Domains\u001B[39;00m\n\u001B[0;32m    125\u001B[0m     \u001B[38;5;28mself\u001B[39m\u001B[38;5;241m.\u001B[39m_accounts: Optional[\u001B[38;5;124m\"\u001B[39m\u001B[38;5;124mAccounts\u001B[39m\u001B[38;5;124m\"\u001B[39m] \u001B[38;5;241m=\u001B[39m \u001B[38;5;28;01mNone\u001B[39;00m\n",
      "File \u001B[1;32m~\\anaconda3\\Lib\\site-packages\\twilio\\base\\client_base.py:53\u001B[0m, in \u001B[0;36mClientBase.__init__\u001B[1;34m(self, username, password, account_sid, region, http_client, environment, edge, user_agent_extensions)\u001B[0m\n\u001B[0;32m     50\u001B[0m \u001B[38;5;250m\u001B[39m\u001B[38;5;124;03m\"\"\" :type : list[str] \"\"\"\u001B[39;00m\n\u001B[0;32m     52\u001B[0m \u001B[38;5;28;01mif\u001B[39;00m \u001B[38;5;129;01mnot\u001B[39;00m \u001B[38;5;28mself\u001B[39m\u001B[38;5;241m.\u001B[39musername \u001B[38;5;129;01mor\u001B[39;00m \u001B[38;5;129;01mnot\u001B[39;00m \u001B[38;5;28mself\u001B[39m\u001B[38;5;241m.\u001B[39mpassword:\n\u001B[1;32m---> 53\u001B[0m     \u001B[38;5;28;01mraise\u001B[39;00m TwilioException(\u001B[38;5;124m\"\u001B[39m\u001B[38;5;124mCredentials are required to create a TwilioClient\u001B[39m\u001B[38;5;124m\"\u001B[39m)\n\u001B[0;32m     55\u001B[0m \u001B[38;5;28mself\u001B[39m\u001B[38;5;241m.\u001B[39maccount_sid \u001B[38;5;241m=\u001B[39m account_sid \u001B[38;5;129;01mor\u001B[39;00m \u001B[38;5;28mself\u001B[39m\u001B[38;5;241m.\u001B[39musername\n\u001B[0;32m     56\u001B[0m \u001B[38;5;250m\u001B[39m\u001B[38;5;124;03m\"\"\" :type : str \"\"\"\u001B[39;00m\n",
      "\u001B[1;31mTwilioException\u001B[0m: Credentials are required to create a TwilioClient"
     ]
    }
   ],
   "source": [
    "from twilio.rest import Client\n",
    "\n",
    "# Your Account SID and Auth Token from console.twilio.com\n",
    "account_sid = \"\"\n",
    "auth_token  = \"\"\n",
    "\n",
    "client = Client(account_sid, auth_token)\n",
    "\n",
    "message = client.messages.create(\n",
    "    to=\"+myphone\",\n",
    "    from_=\"15172241336\",\n",
    "    body=\"Hello from Python!\")\n",
    "\n",
    "print(message.sid)"
   ]
  }
 ],
 "metadata": {
  "kernelspec": {
   "display_name": "Python 3",
   "language": "python",
   "name": "python3"
  },
  "language_info": {
   "codemirror_mode": {
    "name": "ipython",
    "version": 3
   },
   "file_extension": ".py",
   "mimetype": "text/x-python",
   "name": "python",
   "nbconvert_exporter": "python",
   "pygments_lexer": "ipython3",
   "version": "3.8.3"
  }
 },
 "nbformat": 4,
 "nbformat_minor": 4
}
