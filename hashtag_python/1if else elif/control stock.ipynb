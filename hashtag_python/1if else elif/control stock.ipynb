{
 "cells": [
  {
   "cell_type": "markdown",
   "metadata": {},
   "source": [
    "# Exercícios"
   ]
  },
  {
   "cell_type": "markdown",
   "metadata": {},
   "source": [
    "## 1. Criando um mini sistema de controle de estoque\n",
    "\n",
    "- Crie um sistema para ser usado pelo time de controle de estoque de um centro de distribuição.\n",
    "- Imagine que ao fim de todo dia, o time conta quantas unidades de produto existem no estoque. Se tivermos um estoque abaixo do estoque permitido para aquela categoria do produto, o time deve ser avisado (print) para fazer um novo pedido daquele produto.\n",
    "- Cada categoria de produto tem um estoque mínimo diferente, segundo a regra abaixo:\n",
    "\n",
    "- alimentos -> Estoque mínimo: 50\n",
    "- bebidas -> Estoque mínimo: 75\n",
    "- limpeza -> Estoque mínimo: 30\n",
    "\n",
    "Para isso vamos criar um programa que pede 3 inputs do usuário: nome do produto, categoria e quantidade atual em estoque.\n",
    "\n",
    "Se o produto tiver abaixo do estoque mínimo da categoria dele, o programa deve printar a mensagem \"Solicitar {produto} à equipe de compras, temos apenas {unidades} em estoque\"\n",
    "\n",
    "Exemplo: Se o usuário preenche os inputs com: bebidas, dolly, 90, o programa não deve exibir nenhuma mensagem.<br>\n",
    "Agora, se o usuário preenche os inputs com: bebidas, guaraná, 60, o programa deve exibir a mensagem \"Solicitar guaraná à equipe de compras, temos apenas 60 unidades em estoque.\n",
    "\n",
    "Obs: lembre de usar o int() para transformar o número inserido pelo usuário no input de string para int.<br>\n",
    "Obs2: Caso o usuário não preencha alguma das 3 informações, o programa deve exibir uma mensagem para avisá-lo de preencher corretamente."
   ]
  },
  {
   "cell_type": "code",
   "execution_count": 7,
   "metadata": {},
   "outputs": [
    {
     "name": "stdout",
     "output_type": "stream",
     "text": [
      "Enter the product name: dure\n",
      "Enter the product category: drink\n",
      "Enter the quantity: 234\n",
      "Sadly, our stock has only 75 units of drink, please request drink product from the purchasing team.\n"
     ]
    }
   ],
   "source": [
    "#seu código aqui\n",
    "food_stock = 50\n",
    "drink_stock = 75\n",
    "cleaning_stock = 30\n",
    "\n",
    "product_name = input(\"Enter the product name: \")\n",
    "product_category = input(\"Enter the product category: \")\n",
    "product_quantity = int(input(\"Enter the quantity: \"))\n",
    "\n",
    "if (product_category == 'food') and (product_quantity > food_stock):\n",
    "    print(f\"Sadly, our stock has only {food_stock} units of {product_category}, please request from the purchasing team.\")\n",
    "elif (product_category == 'drink') and (product_quantity > drink_stock):\n",
    "    print(f\"Sadly, our stock has only {drink_stock} units of {product_category}, please request from the purchasing team.\")\n",
    "elif (product_category == 'cleaning') and (product_quantity > cleaning_stock):\n",
    "    print(f\"Sadly, our stock has only {cleaning_stock} units of {product_category}, please request from the purchasing team.\")\n",
    "elif (product_category != 'food') and (product_category != 'drink') and (product_category != 'cleaning'):\n",
    "    print(\"This category doesn't exist.\")\n",
    "else:\n",
    "    print(\"We are glad to see you again! Thanks for the purchase!\")\n"
   ]
  },
  {
   "cell_type": "code",
   "execution_count": 4,
   "metadata": {},
   "outputs": [
    {
     "name": "stdout",
     "output_type": "stream",
     "text": [
      "Enter the product name: linguica\n",
      "Enter the product category: food\n",
      "Enter the quantity: 235\n",
      "Sadly, our stock has only 50 units of food.\n"
     ]
    }
   ],
   "source": [
    "gabarito \n",
    "\n",
    "produto = input('Qual o produto?')\n",
    "categoria = input('Qual a categoria do produto?')\n",
    "qtde = input('Qual a quantidade atual do produto?')\n",
    "\n",
    "if produto and categoria and qtde:\n",
    "    qtde = int(qtde)\n",
    "    if categoria == 'bebidas':\n",
    "        if qtde < 75:\n",
    "            print('Solicitar {} à equipe de compras, temos apenas {} unidades em estoque'.format(produto, qtde))\n",
    "    elif categoria == 'limpeza':\n",
    "        if qtde < 30:\n",
    "            print('Solicitar {} à equipe de compras, temos apenas {} unidades em estoque'.format(produto, qtde))\n",
    "    else:\n",
    "        if qtde < 50:\n",
    "            print('Solicitar {} à equipe de compras, temos apenas {} unidades em estoque'.format(produto, qtde))\n",
    "else:\n",
    "    print('Preencha todas as informações')\n"
   ]
  },
  {
   "cell_type": "code",
   "execution_count": null,
   "metadata": {},
   "outputs": [],
   "source": []
  }
 ],
 "metadata": {
  "kernelspec": {
   "display_name": "Python 3 (ipykernel)",
   "language": "python",
   "name": "python3"
  },
  "language_info": {
   "codemirror_mode": {
    "name": "ipython",
    "version": 3
   },
   "file_extension": ".py",
   "mimetype": "text/x-python",
   "name": "python",
   "nbconvert_exporter": "python",
   "pygments_lexer": "ipython3",
   "version": "3.10.9"
  }
 },
 "nbformat": 4,
 "nbformat_minor": 4
}
